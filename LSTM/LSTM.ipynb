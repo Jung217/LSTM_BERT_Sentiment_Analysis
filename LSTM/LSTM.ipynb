{
 "cells": [
  {
   "cell_type": "code",
   "execution_count": 40,
   "id": "60f188be",
   "metadata": {},
   "outputs": [
    {
     "name": "stdout",
     "output_type": "stream",
     "text": [
      "['apply-jieba-tokenizer', 'fake-news-pair-classification-challenge', 'tokenized_test.csv', 'tokenized_train.csv']\n",
      "['test.csv', 'train.csv']\n",
      "['tokenized_test.csv', 'tokenized_train.csv', '__output__.json']\n"
     ]
    }
   ],
   "source": [
    "import os\n",
    "import keras\n",
    "import numpy as np\n",
    "import pandas as pd\n",
    "import jieba.posseg as pseg\n",
    "from keras import preprocessing\n",
    "from keras.preprocessing import sequence\n",
    "from keras.utils.data_utils import pad_sequences\n",
    "print(os.listdir(\"./input\"))\n",
    "print(os.listdir(\"./input/fake-news-pair-classification-challenge\"))\n",
    "print(os.listdir(\"./input/apply-jieba-tokenizer\"))"
   ]
  },
  {
   "cell_type": "code",
   "execution_count": 41,
   "id": "04d9dcc3",
   "metadata": {},
   "outputs": [
    {
     "name": "stdout",
     "output_type": "stream",
     "text": [
      "Successfully\n"
     ]
    }
   ],
   "source": [
    "if os.path.isdir(\"./input/fake-news-pair-classification-challenge\"):\n",
    "    TRAIN_CSV_PATH = './input/fake-news-pair-classification-challenge/train.csv'\n",
    "    TEST_CSV_PATH = './input/fake-news-pair-classification-challenge/test.csv'\n",
    "    TOKENIZED_TRAIN_CSV_PATH = \"./input/apply-jieba-tokenizer/tokenized_train.csv\"\n",
    "    TOKENIZED_TEST_CSV_PATH = \"./input/apply-jieba-tokenizer/tokenized_test.csv\"\n",
    "else:\n",
    "    TRAIN_CSV_PATH = './input/train.csv'\n",
    "    TEST_CSV_PATH = './input/test.csv'\n",
    "    TOKENIZED_TRAIN_CSV_PATH = None\n",
    "print(\"Successfully\")"
   ]
  },
  {
   "cell_type": "code",
   "execution_count": 42,
   "id": "d61e3ae7",
   "metadata": {},
   "outputs": [
    {
     "data": {
      "text/html": [
       "<div>\n",
       "<style scoped>\n",
       "    .dataframe tbody tr th:only-of-type {\n",
       "        vertical-align: middle;\n",
       "    }\n",
       "\n",
       "    .dataframe tbody tr th {\n",
       "        vertical-align: top;\n",
       "    }\n",
       "\n",
       "    .dataframe thead th {\n",
       "        text-align: right;\n",
       "    }\n",
       "</style>\n",
       "<table border=\"1\" class=\"dataframe\">\n",
       "  <thead>\n",
       "    <tr style=\"text-align: right;\">\n",
       "      <th></th>\n",
       "      <th>tid1</th>\n",
       "      <th>tid2</th>\n",
       "      <th>title1_zh</th>\n",
       "      <th>title2_zh</th>\n",
       "      <th>title1_en</th>\n",
       "      <th>title2_en</th>\n",
       "      <th>label</th>\n",
       "    </tr>\n",
       "    <tr>\n",
       "      <th>id</th>\n",
       "      <th></th>\n",
       "      <th></th>\n",
       "      <th></th>\n",
       "      <th></th>\n",
       "      <th></th>\n",
       "      <th></th>\n",
       "      <th></th>\n",
       "    </tr>\n",
       "  </thead>\n",
       "  <tbody>\n",
       "    <tr>\n",
       "      <th>0</th>\n",
       "      <td>0</td>\n",
       "      <td>1</td>\n",
       "      <td>2017养老保险又新增两项，农村老人人人可申领，你领到了吗</td>\n",
       "      <td>警方辟谣“鸟巢大会每人领5万” 仍有老人坚持进京</td>\n",
       "      <td>There are two new old-age insurance benefits f...</td>\n",
       "      <td>Police disprove \"bird's nest congress each per...</td>\n",
       "      <td>unrelated</td>\n",
       "    </tr>\n",
       "    <tr>\n",
       "      <th>3</th>\n",
       "      <td>2</td>\n",
       "      <td>3</td>\n",
       "      <td>\"你不来深圳，早晚你儿子也要来\"，不出10年深圳人均GDP将超香港</td>\n",
       "      <td>深圳GDP首超香港？深圳统计局辟谣：只是差距在缩小</td>\n",
       "      <td>\"If you do not come to Shenzhen, sooner or lat...</td>\n",
       "      <td>Shenzhen's GDP outstrips Hong Kong? Shenzhen S...</td>\n",
       "      <td>unrelated</td>\n",
       "    </tr>\n",
       "    <tr>\n",
       "      <th>1</th>\n",
       "      <td>2</td>\n",
       "      <td>4</td>\n",
       "      <td>\"你不来深圳，早晚你儿子也要来\"，不出10年深圳人均GDP将超香港</td>\n",
       "      <td>GDP首超香港？深圳澄清：还差一点点……</td>\n",
       "      <td>\"If you do not come to Shenzhen, sooner or lat...</td>\n",
       "      <td>The GDP overtopped Hong Kong? Shenzhen clarifi...</td>\n",
       "      <td>unrelated</td>\n",
       "    </tr>\n",
       "    <tr>\n",
       "      <th>2</th>\n",
       "      <td>2</td>\n",
       "      <td>5</td>\n",
       "      <td>\"你不来深圳，早晚你儿子也要来\"，不出10年深圳人均GDP将超香港</td>\n",
       "      <td>去年深圳GDP首超香港？深圳统计局辟谣：还差611亿</td>\n",
       "      <td>\"If you do not come to Shenzhen, sooner or lat...</td>\n",
       "      <td>Shenzhen's GDP topped Hong Kong last year? She...</td>\n",
       "      <td>unrelated</td>\n",
       "    </tr>\n",
       "    <tr>\n",
       "      <th>9</th>\n",
       "      <td>6</td>\n",
       "      <td>7</td>\n",
       "      <td>\"用大蒜鉴别地沟油的方法,怎么鉴别地沟油</td>\n",
       "      <td>吃了30年食用油才知道，一片大蒜轻松鉴别地沟油</td>\n",
       "      <td>\"How to discriminate oil from gutter oil by me...</td>\n",
       "      <td>It took 30 years of cooking oil to know that o...</td>\n",
       "      <td>agreed</td>\n",
       "    </tr>\n",
       "  </tbody>\n",
       "</table>\n",
       "</div>"
      ],
      "text/plain": [
       "    tid1  tid2                          title1_zh                   title2_zh  \\\n",
       "id                                                                              \n",
       "0      0     1      2017养老保险又新增两项，农村老人人人可申领，你领到了吗    警方辟谣“鸟巢大会每人领5万” 仍有老人坚持进京   \n",
       "3      2     3  \"你不来深圳，早晚你儿子也要来\"，不出10年深圳人均GDP将超香港   深圳GDP首超香港？深圳统计局辟谣：只是差距在缩小   \n",
       "1      2     4  \"你不来深圳，早晚你儿子也要来\"，不出10年深圳人均GDP将超香港        GDP首超香港？深圳澄清：还差一点点……   \n",
       "2      2     5  \"你不来深圳，早晚你儿子也要来\"，不出10年深圳人均GDP将超香港  去年深圳GDP首超香港？深圳统计局辟谣：还差611亿   \n",
       "9      6     7               \"用大蒜鉴别地沟油的方法,怎么鉴别地沟油     吃了30年食用油才知道，一片大蒜轻松鉴别地沟油   \n",
       "\n",
       "                                            title1_en  \\\n",
       "id                                                      \n",
       "0   There are two new old-age insurance benefits f...   \n",
       "3   \"If you do not come to Shenzhen, sooner or lat...   \n",
       "1   \"If you do not come to Shenzhen, sooner or lat...   \n",
       "2   \"If you do not come to Shenzhen, sooner or lat...   \n",
       "9   \"How to discriminate oil from gutter oil by me...   \n",
       "\n",
       "                                            title2_en      label  \n",
       "id                                                                \n",
       "0   Police disprove \"bird's nest congress each per...  unrelated  \n",
       "3   Shenzhen's GDP outstrips Hong Kong? Shenzhen S...  unrelated  \n",
       "1   The GDP overtopped Hong Kong? Shenzhen clarifi...  unrelated  \n",
       "2   Shenzhen's GDP topped Hong Kong last year? She...  unrelated  \n",
       "9   It took 30 years of cooking oil to know that o...     agreed  "
      ]
     },
     "execution_count": 42,
     "metadata": {},
     "output_type": "execute_result"
    }
   ],
   "source": [
    "train = pd.read_csv(TRAIN_CSV_PATH, index_col='id')\n",
    "train.head(5)"
   ]
  },
  {
   "cell_type": "code",
   "execution_count": 43,
   "id": "634b8f49",
   "metadata": {},
   "outputs": [
    {
     "data": {
      "text/html": [
       "<div>\n",
       "<style scoped>\n",
       "    .dataframe tbody tr th:only-of-type {\n",
       "        vertical-align: middle;\n",
       "    }\n",
       "\n",
       "    .dataframe tbody tr th {\n",
       "        vertical-align: top;\n",
       "    }\n",
       "\n",
       "    .dataframe thead th {\n",
       "        text-align: right;\n",
       "    }\n",
       "</style>\n",
       "<table border=\"1\" class=\"dataframe\">\n",
       "  <thead>\n",
       "    <tr style=\"text-align: right;\">\n",
       "      <th></th>\n",
       "      <th>title1_zh</th>\n",
       "      <th>title2_zh</th>\n",
       "      <th>label</th>\n",
       "    </tr>\n",
       "    <tr>\n",
       "      <th>id</th>\n",
       "      <th></th>\n",
       "      <th></th>\n",
       "      <th></th>\n",
       "    </tr>\n",
       "  </thead>\n",
       "  <tbody>\n",
       "    <tr>\n",
       "      <th>0</th>\n",
       "      <td>2017养老保险又新增两项，农村老人人人可申领，你领到了吗</td>\n",
       "      <td>警方辟谣“鸟巢大会每人领5万” 仍有老人坚持进京</td>\n",
       "      <td>unrelated</td>\n",
       "    </tr>\n",
       "    <tr>\n",
       "      <th>3</th>\n",
       "      <td>\"你不来深圳，早晚你儿子也要来\"，不出10年深圳人均GDP将超香港</td>\n",
       "      <td>深圳GDP首超香港？深圳统计局辟谣：只是差距在缩小</td>\n",
       "      <td>unrelated</td>\n",
       "    </tr>\n",
       "    <tr>\n",
       "      <th>1</th>\n",
       "      <td>\"你不来深圳，早晚你儿子也要来\"，不出10年深圳人均GDP将超香港</td>\n",
       "      <td>GDP首超香港？深圳澄清：还差一点点……</td>\n",
       "      <td>unrelated</td>\n",
       "    </tr>\n",
       "    <tr>\n",
       "      <th>2</th>\n",
       "      <td>\"你不来深圳，早晚你儿子也要来\"，不出10年深圳人均GDP将超香港</td>\n",
       "      <td>去年深圳GDP首超香港？深圳统计局辟谣：还差611亿</td>\n",
       "      <td>unrelated</td>\n",
       "    </tr>\n",
       "    <tr>\n",
       "      <th>9</th>\n",
       "      <td>\"用大蒜鉴别地沟油的方法,怎么鉴别地沟油</td>\n",
       "      <td>吃了30年食用油才知道，一片大蒜轻松鉴别地沟油</td>\n",
       "      <td>agreed</td>\n",
       "    </tr>\n",
       "  </tbody>\n",
       "</table>\n",
       "</div>"
      ],
      "text/plain": [
       "                            title1_zh                   title2_zh      label\n",
       "id                                                                          \n",
       "0       2017养老保险又新增两项，农村老人人人可申领，你领到了吗    警方辟谣“鸟巢大会每人领5万” 仍有老人坚持进京  unrelated\n",
       "3   \"你不来深圳，早晚你儿子也要来\"，不出10年深圳人均GDP将超香港   深圳GDP首超香港？深圳统计局辟谣：只是差距在缩小  unrelated\n",
       "1   \"你不来深圳，早晚你儿子也要来\"，不出10年深圳人均GDP将超香港        GDP首超香港？深圳澄清：还差一点点……  unrelated\n",
       "2   \"你不来深圳，早晚你儿子也要来\"，不出10年深圳人均GDP将超香港  去年深圳GDP首超香港？深圳统计局辟谣：还差611亿  unrelated\n",
       "9                \"用大蒜鉴别地沟油的方法,怎么鉴别地沟油     吃了30年食用油才知道，一片大蒜轻松鉴别地沟油     agreed"
      ]
     },
     "execution_count": 43,
     "metadata": {},
     "output_type": "execute_result"
    }
   ],
   "source": [
    "cols = ['title1_zh', 'title2_zh', 'label']\n",
    "train = train.loc[:, cols]\n",
    "train.head(5)"
   ]
  },
  {
   "cell_type": "code",
   "execution_count": 44,
   "id": "9f64bdd7",
   "metadata": {},
   "outputs": [
    {
     "data": {
      "text/plain": [
       "[pair('2017', 'm'),\n",
       " pair('养老保险', 'n'),\n",
       " pair('又', 'd'),\n",
       " pair('新增', 'v'),\n",
       " pair('两项', 'm'),\n",
       " pair('，', 'x'),\n",
       " pair('农村', 'n'),\n",
       " pair('老人', 'n'),\n",
       " pair('人人', 'n'),\n",
       " pair('可', 'v'),\n",
       " pair('申领', 'v'),\n",
       " pair('，', 'x'),\n",
       " pair('你', 'r'),\n",
       " pair('领到', 'v'),\n",
       " pair('了', 'ul'),\n",
       " pair('吗', 'y')]"
      ]
     },
     "execution_count": 44,
     "metadata": {},
     "output_type": "execute_result"
    }
   ],
   "source": [
    "text = '2017养老保险又新增两项，农村老人人人可申领，你领到了吗'\n",
    "words = pseg.cut(text)\n",
    "[word for word in words]"
   ]
  },
  {
   "cell_type": "code",
   "execution_count": 45,
   "id": "3b555eb4",
   "metadata": {},
   "outputs": [],
   "source": [
    "def jieba_tokenizer(text):\n",
    "    words = pseg.cut(text)\n",
    "    return ' '.join([\n",
    "        word for word, flag in words if flag != 'x'])"
   ]
  },
  {
   "cell_type": "code",
   "execution_count": 46,
   "id": "bd5b45b1",
   "metadata": {},
   "outputs": [
    {
     "data": {
      "text/plain": [
       "title1_zh    False\n",
       "title2_zh     True\n",
       "label        False\n",
       "dtype: bool"
      ]
     },
     "execution_count": 46,
     "metadata": {},
     "output_type": "execute_result"
    }
   ],
   "source": [
    "train.isna().any()"
   ]
  },
  {
   "cell_type": "code",
   "execution_count": 47,
   "id": "f1e32402",
   "metadata": {},
   "outputs": [
    {
     "data": {
      "text/plain": [
       "title1_zh    False\n",
       "title2_zh    False\n",
       "label        False\n",
       "dtype: bool"
      ]
     },
     "execution_count": 47,
     "metadata": {},
     "output_type": "execute_result"
    }
   ],
   "source": [
    "train.title2_zh.fillna('UNKNOWN', inplace=True)\n",
    "train.isna().any()"
   ]
  },
  {
   "cell_type": "code",
   "execution_count": 48,
   "id": "3345a918",
   "metadata": {},
   "outputs": [
    {
     "name": "stderr",
     "output_type": "stream",
     "text": [
      "<>:6: SyntaxWarning: assertion is always true, perhaps remove parentheses?\n",
      "<>:6: SyntaxWarning: assertion is always true, perhaps remove parentheses?\n",
      "C:\\Users\\alex2\\AppData\\Local\\Temp\\ipykernel_9820\\1844286404.py:6: SyntaxWarning: assertion is always true, perhaps remove parentheses?\n",
      "  assert((data.index == res.index).all(), 'Something error when merge data')\n"
     ]
    }
   ],
   "source": [
    "def process(data):\n",
    "    res = data.apply(jieba_tokenizer)\n",
    "    return res\n",
    "\n",
    "def check_merge_idx(data, res):\n",
    "    assert((data.index == res.index).all(), 'Something error when merge data')\n",
    "\n",
    "def parallelize(data, func):\n",
    "    from multiprocessing import cpu_count, Pool\n",
    "    cores = partitions = cpu_count()\n",
    "    data_split = np.array_split(data, partitions)\n",
    "    pool = Pool(cores)\n",
    "    res = pd.concat(pool.map(func, data_split))\n",
    "    pool.close()\n",
    "    pool.join()\n",
    "    check_merge_idx(data, res)\n",
    "    return res"
   ]
  },
  {
   "cell_type": "code",
   "execution_count": 49,
   "id": "d44aa8b8",
   "metadata": {},
   "outputs": [
    {
     "data": {
      "text/plain": [
       "True"
      ]
     },
     "execution_count": 49,
     "metadata": {},
     "output_type": "execute_result"
    }
   ],
   "source": [
    "np.all(train.index == train.title1_zh.index)"
   ]
  },
  {
   "cell_type": "code",
   "execution_count": 50,
   "id": "d629e994",
   "metadata": {},
   "outputs": [
    {
     "name": "stdout",
     "output_type": "stream",
     "text": [
      "Use prepared tokenized train data\n",
      "Successfully\n"
     ]
    }
   ],
   "source": [
    "if os.path.exists(TOKENIZED_TRAIN_CSV_PATH):\n",
    "    print(\"Use prepared tokenized train data\")\n",
    "    train = pd.read_csv(TOKENIZED_TRAIN_CSV_PATH, index_col='id')\n",
    "else:\n",
    "    print(\"start to training\")\n",
    "    train['title1_tokenized'] = parallelize(train.loc[:, 'title1_zh'], process)\n",
    "    train['title2_tokenized'] = parallelize(train.loc[:, 'title2_zh'], process)\n",
    "    train.to_csv('tokenized_train.csv',index=True)\n",
    "print(\"Successfully\")"
   ]
  },
  {
   "cell_type": "code",
   "execution_count": 51,
   "id": "98568ee9",
   "metadata": {},
   "outputs": [
    {
     "data": {
      "text/html": [
       "<div>\n",
       "<style scoped>\n",
       "    .dataframe tbody tr th:only-of-type {\n",
       "        vertical-align: middle;\n",
       "    }\n",
       "\n",
       "    .dataframe tbody tr th {\n",
       "        vertical-align: top;\n",
       "    }\n",
       "\n",
       "    .dataframe thead th {\n",
       "        text-align: right;\n",
       "    }\n",
       "</style>\n",
       "<table border=\"1\" class=\"dataframe\">\n",
       "  <thead>\n",
       "    <tr style=\"text-align: right;\">\n",
       "      <th></th>\n",
       "      <th>title2_zh</th>\n",
       "      <th>title2_tokenized</th>\n",
       "    </tr>\n",
       "    <tr>\n",
       "      <th>id</th>\n",
       "      <th></th>\n",
       "      <th></th>\n",
       "    </tr>\n",
       "  </thead>\n",
       "  <tbody>\n",
       "    <tr>\n",
       "      <th>0</th>\n",
       "      <td>警方辟谣“鸟巢大会每人领5万” 仍有老人坚持进京</td>\n",
       "      <td>警方 辟谣 鸟巢 大会 每人 领 5 万 仍 有 老人 坚持 进京</td>\n",
       "    </tr>\n",
       "    <tr>\n",
       "      <th>3</th>\n",
       "      <td>深圳GDP首超香港？深圳统计局辟谣：只是差距在缩小</td>\n",
       "      <td>深圳 GDP 首 超 香港 深圳 统计局 辟谣 只是 差距 在 缩小</td>\n",
       "    </tr>\n",
       "    <tr>\n",
       "      <th>1</th>\n",
       "      <td>GDP首超香港？深圳澄清：还差一点点……</td>\n",
       "      <td>GDP 首 超 香港 深圳 澄清 还 差 一点点</td>\n",
       "    </tr>\n",
       "    <tr>\n",
       "      <th>2</th>\n",
       "      <td>去年深圳GDP首超香港？深圳统计局辟谣：还差611亿</td>\n",
       "      <td>去年 深圳 GDP 首 超 香港 深圳 统计局 辟谣 还 差 611 亿</td>\n",
       "    </tr>\n",
       "    <tr>\n",
       "      <th>9</th>\n",
       "      <td>吃了30年食用油才知道，一片大蒜轻松鉴别地沟油</td>\n",
       "      <td>吃 了 30 年 食用油 才 知道 一片 大蒜 轻松 鉴别 地沟油</td>\n",
       "    </tr>\n",
       "    <tr>\n",
       "      <th>4</th>\n",
       "      <td>深圳GDP首超香港？统计局辟谣：未超但差距再度缩小</td>\n",
       "      <td>深圳 GDP 首 超 香港 统计局 辟谣 未 超 但 差距 再度 缩小</td>\n",
       "    </tr>\n",
       "    <tr>\n",
       "      <th>6</th>\n",
       "      <td>榴莲不能和什么一起吃 与咖啡同吃诱发心脏病\"\"</td>\n",
       "      <td>榴莲 不能 和 什么 一起 吃 与 咖啡 同 吃 诱发 心脏病</td>\n",
       "    </tr>\n",
       "    <tr>\n",
       "      <th>5</th>\n",
       "      <td>深圳GDP首超香港？辟谣：未超但差距再度缩小</td>\n",
       "      <td>深圳 GDP 首 超 香港 辟谣 未 超 但 差距 再度 缩小</td>\n",
       "    </tr>\n",
       "    <tr>\n",
       "      <th>7</th>\n",
       "      <td>咸宁一家店的蛋糕含有“棉花”？崇阳多部门联合辟谣</td>\n",
       "      <td>咸宁 一家 店 的 蛋糕 含有 棉花 崇阳 多 部门 联合 辟谣</td>\n",
       "    </tr>\n",
       "    <tr>\n",
       "      <th>8</th>\n",
       "      <td>一颗大蒜就能鉴别地沟油？别闹了！做到下面几点，让您远离地沟油</td>\n",
       "      <td>一颗 大蒜 就 能 鉴别 地沟油 别闹 了 做到 下面 几点 让 您 远离 地沟油</td>\n",
       "    </tr>\n",
       "  </tbody>\n",
       "</table>\n",
       "</div>"
      ],
      "text/plain": [
       "                         title2_zh                           title2_tokenized\n",
       "id                                                                           \n",
       "0         警方辟谣“鸟巢大会每人领5万” 仍有老人坚持进京          警方 辟谣 鸟巢 大会 每人 领 5 万 仍 有 老人 坚持 进京\n",
       "3        深圳GDP首超香港？深圳统计局辟谣：只是差距在缩小         深圳 GDP 首 超 香港 深圳 统计局 辟谣 只是 差距 在 缩小\n",
       "1             GDP首超香港？深圳澄清：还差一点点……                   GDP 首 超 香港 深圳 澄清 还 差 一点点\n",
       "2       去年深圳GDP首超香港？深圳统计局辟谣：还差611亿       去年 深圳 GDP 首 超 香港 深圳 统计局 辟谣 还 差 611 亿\n",
       "9          吃了30年食用油才知道，一片大蒜轻松鉴别地沟油          吃 了 30 年 食用油 才 知道 一片 大蒜 轻松 鉴别 地沟油\n",
       "4        深圳GDP首超香港？统计局辟谣：未超但差距再度缩小        深圳 GDP 首 超 香港 统计局 辟谣 未 超 但 差距 再度 缩小\n",
       "6          榴莲不能和什么一起吃 与咖啡同吃诱发心脏病\"\"            榴莲 不能 和 什么 一起 吃 与 咖啡 同 吃 诱发 心脏病\n",
       "5           深圳GDP首超香港？辟谣：未超但差距再度缩小            深圳 GDP 首 超 香港 辟谣 未 超 但 差距 再度 缩小\n",
       "7         咸宁一家店的蛋糕含有“棉花”？崇阳多部门联合辟谣           咸宁 一家 店 的 蛋糕 含有 棉花 崇阳 多 部门 联合 辟谣\n",
       "8   一颗大蒜就能鉴别地沟油？别闹了！做到下面几点，让您远离地沟油  一颗 大蒜 就 能 鉴别 地沟油 别闹 了 做到 下面 几点 让 您 远离 地沟油"
      ]
     },
     "execution_count": 51,
     "metadata": {},
     "output_type": "execute_result"
    }
   ],
   "source": [
    "train.loc[:, [\"title1_zh\", \"title1_tokenized\"]].head(10)\n",
    "train.loc[:, [\"title2_zh\", \"title2_tokenized\"]].head(10)"
   ]
  },
  {
   "cell_type": "code",
   "execution_count": 52,
   "id": "63f3421a",
   "metadata": {},
   "outputs": [],
   "source": [
    "train.fillna('UNKNOWN', inplace=True)"
   ]
  },
  {
   "cell_type": "code",
   "execution_count": 53,
   "id": "18182355",
   "metadata": {},
   "outputs": [],
   "source": [
    "MAX_NUM_WORDS = 10000\n",
    "tokenizer = keras.preprocessing.text.Tokenizer(num_words=MAX_NUM_WORDS)"
   ]
  },
  {
   "cell_type": "code",
   "execution_count": 54,
   "id": "65aecc66",
   "metadata": {},
   "outputs": [
    {
     "data": {
      "text/plain": [
       "False"
      ]
     },
     "execution_count": 54,
     "metadata": {},
     "output_type": "execute_result"
    }
   ],
   "source": [
    "corpus_x1 = train.title1_tokenized\n",
    "corpus_x2 = train.title2_tokenized\n",
    "corpus = pd.concat([corpus_x1, corpus_x2])\n",
    "corpus.shape\n",
    "\n",
    "pd.DataFrame(corpus.iloc[:5], columns=['title'])\n",
    "\n",
    "corpus.isna().any()"
   ]
  },
  {
   "cell_type": "code",
   "execution_count": 55,
   "id": "1a042ad0",
   "metadata": {},
   "outputs": [],
   "source": [
    "tokenizer.fit_on_texts(corpus)\n",
    "x1_train = tokenizer.texts_to_sequences(corpus_x1)\n",
    "x2_train = tokenizer.texts_to_sequences(corpus_x2)"
   ]
  },
  {
   "cell_type": "code",
   "execution_count": 56,
   "id": "fd392763",
   "metadata": {},
   "outputs": [
    {
     "data": {
      "text/plain": [
       "[[217, 1268, 32, 1178, 5967, 25, 489, 2877, 116, 5559, 4, 1850, 2, 13]]"
      ]
     },
     "execution_count": 56,
     "metadata": {},
     "output_type": "execute_result"
    }
   ],
   "source": [
    "len(x1_train)\n",
    "x1_train[:1]"
   ]
  },
  {
   "cell_type": "code",
   "execution_count": 57,
   "id": "12dbb00d",
   "metadata": {},
   "outputs": [
    {
     "name": "stdout",
     "output_type": "stream",
     "text": [
      "['2017', '养老保险', '又', '新增', '两项', '农村', '老人', '人人', '可', '申领', '你', '领到', '了', '吗']\n"
     ]
    }
   ],
   "source": [
    "for seq in x1_train[:1]:\n",
    "    print([tokenizer.index_word[idx] for idx in seq])"
   ]
  },
  {
   "cell_type": "code",
   "execution_count": 58,
   "id": "bc97df38",
   "metadata": {},
   "outputs": [],
   "source": [
    "MAX_SEQUENCE_LENGTH = 20\n",
    "x1_train = keras.utils.data_utils.pad_sequences(x1_train, maxlen=MAX_SEQUENCE_LENGTH)\n",
    "x2_train = keras.utils.data_utils.pad_sequences(x2_train, maxlen=MAX_SEQUENCE_LENGTH)"
   ]
  },
  {
   "cell_type": "code",
   "execution_count": 59,
   "id": "bee1c461",
   "metadata": {},
   "outputs": [
    {
     "name": "stdout",
     "output_type": "stream",
     "text": [
      "Length of all assert = 20\n"
     ]
    }
   ],
   "source": [
    "for seq in x1_train + x2_train: assert len(seq) == 20   \n",
    "print(\"Length of all assert = 20\")"
   ]
  },
  {
   "cell_type": "code",
   "execution_count": 60,
   "id": "55f4792c",
   "metadata": {},
   "outputs": [
    {
     "data": {
      "text/plain": [
       "id\n",
       "0    unrelated\n",
       "3    unrelated\n",
       "1    unrelated\n",
       "2    unrelated\n",
       "9       agreed\n",
       "Name: label, dtype: object"
      ]
     },
     "execution_count": 60,
     "metadata": {},
     "output_type": "execute_result"
    }
   ],
   "source": [
    "train.label[:5]"
   ]
  },
  {
   "cell_type": "code",
   "execution_count": 61,
   "id": "6f8c14ec",
   "metadata": {},
   "outputs": [
    {
     "data": {
      "text/plain": [
       "array([0., 0., 0., 0., 1.], dtype=float32)"
      ]
     },
     "execution_count": 61,
     "metadata": {},
     "output_type": "execute_result"
    }
   ],
   "source": [
    "label_to_index = {'unrelated': 0, 'agreed': 1, 'disagreed': 2}\n",
    "\n",
    "# 將分類標籤對應到剛定義的數字\n",
    "y_train = train.label.apply(lambda x: label_to_index[x])\n",
    "y_train = np.asarray(y_train).astype('float32')\n",
    "y_train[:5]"
   ]
  },
  {
   "cell_type": "code",
   "execution_count": 62,
   "id": "109a0791",
   "metadata": {},
   "outputs": [],
   "source": [
    "NUM_CLASSES = 3 # 基本參數設置，有幾個分類\n",
    "MAX_NUM_WORDS = 10000 # 在語料庫裡有多少詞彙\n",
    "MAX_SEQUENCE_LENGTH = 20 # 一個標題最長有幾個詞彙\n",
    "NUM_EMBEDDING_DIM = 256 # 一個詞向量的維度\n",
    "NUM_LSTM_UNITS = 128 # LSTM 輸出的向量維度"
   ]
  },
  {
   "cell_type": "code",
   "execution_count": 63,
   "id": "9fb6ecfe",
   "metadata": {},
   "outputs": [
    {
     "data": {
      "text/plain": [
       "array([[1., 0., 0.],\n",
       "       [1., 0., 0.],\n",
       "       [1., 0., 0.],\n",
       "       [1., 0., 0.],\n",
       "       [0., 1., 0.]], dtype=float32)"
      ]
     },
     "execution_count": 63,
     "metadata": {},
     "output_type": "execute_result"
    }
   ],
   "source": [
    "y_train = keras.utils.to_categorical(y_train)\n",
    "y_train[:5]"
   ]
  },
  {
   "cell_type": "code",
   "execution_count": 64,
   "id": "587f2579",
   "metadata": {},
   "outputs": [],
   "source": [
    "from sklearn.model_selection import train_test_split\n",
    "\n",
    "VALIDATION_RATIO = 0.1\n",
    "RANDOM_STATE = 9527\n",
    "\n",
    "x1_train, x1_val, x2_train, x2_val, y_train, y_val = train_test_split(x1_train, x2_train, y_train, test_size=VALIDATION_RATIO, random_state=RANDOM_STATE)"
   ]
  },
  {
   "cell_type": "code",
   "execution_count": 65,
   "id": "708723f3",
   "metadata": {},
   "outputs": [
    {
     "name": "stdout",
     "output_type": "stream",
     "text": [
      "Training Set\n",
      "----------\n",
      "x1_train: (288496, 20)\n",
      "x2_train: (288496, 20)\n",
      "y_train : (288496, 3)\n",
      "----------\n",
      "x1_val:   (32056, 20)\n",
      "x2_val:   (32056, 20)\n",
      "y_val :   (32056, 3)\n",
      "----------\n",
      "Test Set\n"
     ]
    }
   ],
   "source": [
    "print(\"Training Set\")\n",
    "print(\"-\" * 10)\n",
    "print(f\"x1_train: {x1_train.shape}\")\n",
    "print(f\"x2_train: {x2_train.shape}\")\n",
    "print(f\"y_train : {y_train.shape}\")\n",
    "\n",
    "print(\"-\" * 10)\n",
    "print(f\"x1_val:   {x1_val.shape}\")\n",
    "print(f\"x2_val:   {x2_val.shape}\")\n",
    "print(f\"y_val :   {y_val.shape}\")\n",
    "print(\"-\" * 10)\n",
    "print(\"Test Set\")"
   ]
  },
  {
   "cell_type": "code",
   "execution_count": 66,
   "id": "f75d2515",
   "metadata": {},
   "outputs": [
    {
     "name": "stdout",
     "output_type": "stream",
     "text": [
      "Model: \"model_1\"\n",
      "__________________________________________________________________________________________________\n",
      " Layer (type)                   Output Shape         Param #     Connected to                     \n",
      "==================================================================================================\n",
      " input_3 (InputLayer)           [(None, 20)]         0           []                               \n",
      "                                                                                                  \n",
      " input_4 (InputLayer)           [(None, 20)]         0           []                               \n",
      "                                                                                                  \n",
      " embedding_1 (Embedding)        (None, 20, 256)      2560000     ['input_3[0][0]',                \n",
      "                                                                  'input_4[0][0]']                \n",
      "                                                                                                  \n",
      " lstm_1 (LSTM)                  (None, 128)          197120      ['embedding_1[0][0]',            \n",
      "                                                                  'embedding_1[1][0]']            \n",
      "                                                                                                  \n",
      " concatenate_1 (Concatenate)    (None, 256)          0           ['lstm_1[0][0]',                 \n",
      "                                                                  'lstm_1[1][0]']                 \n",
      "                                                                                                  \n",
      " dense_1 (Dense)                (None, 3)            771         ['concatenate_1[0][0]']          \n",
      "                                                                                                  \n",
      "==================================================================================================\n",
      "Total params: 2,757,891\n",
      "Trainable params: 2,757,891\n",
      "Non-trainable params: 0\n",
      "__________________________________________________________________________________________________\n"
     ]
    }
   ],
   "source": [
    "from keras import Input\n",
    "from keras.layers import Embedding,LSTM, concatenate, Dense\n",
    "from keras.models import Model\n",
    "\n",
    "# 分別定義 2 個新聞標題 A & B 為模型輸入\n",
    "# 兩個標題都是一個長度為 20 的數字序列\n",
    "top_input = Input(\n",
    "    shape=(MAX_SEQUENCE_LENGTH, ), \n",
    "    dtype='int32')\n",
    "bm_input = Input(\n",
    "    shape=(MAX_SEQUENCE_LENGTH, ), \n",
    "    dtype='int32')\n",
    "\n",
    "# 詞嵌入層\n",
    "# 經過詞嵌入層的轉換，兩個新聞標題都變成\n",
    "# 一個詞向量的序列，而每個詞向量的維度\n",
    "# 為 256\n",
    "embedding_layer = Embedding(\n",
    "    MAX_NUM_WORDS, NUM_EMBEDDING_DIM)\n",
    "top_embedded = embedding_layer(\n",
    "    top_input)\n",
    "bm_embedded = embedding_layer(\n",
    "    bm_input)\n",
    "\n",
    "# LSTM 層\n",
    "# 兩個新聞標題經過此層後\n",
    "# 為一個 128 維度向量\n",
    "shared_lstm = LSTM(NUM_LSTM_UNITS)\n",
    "top_output = shared_lstm(top_embedded)\n",
    "bm_output = shared_lstm(bm_embedded)\n",
    "\n",
    "# 串接層將兩個新聞標題的結果串接單一向量\n",
    "# 方便跟全連結層相連\n",
    "merged = concatenate(\n",
    "    [top_output, bm_output], \n",
    "    axis=-1)\n",
    "\n",
    "# 全連接層搭配 Softmax Activation\n",
    "# 可以回傳 3 個成對標題\n",
    "# 屬於各類別的可能機率\n",
    "dense =  Dense(\n",
    "    units=NUM_CLASSES, \n",
    "    activation='softmax')\n",
    "predictions = dense(merged)\n",
    "\n",
    "# 我們的模型就是將數字序列的輸入，轉換\n",
    "# 成 3 個分類的機率的所有步驟 / 層的總和\n",
    "model = Model(\n",
    "    inputs=[top_input, bm_input], \n",
    "    outputs=predictions)\n",
    "\n",
    "model.summary()"
   ]
  },
  {
   "cell_type": "code",
   "execution_count": 67,
   "id": "a2117387",
   "metadata": {},
   "outputs": [],
   "source": [
    "import matplotlib.pyplot as plt\n",
    "from keras.utils import plot_model\n",
    "from IPython.display import SVG\n",
    "from keras.utils import model_to_dot\n",
    "\n",
    "#plot_model(model, to_file='model.png', show_shapes=True, show_layer_names=False, rankdir='LR')\n",
    "#SVG(model_to_dot(model, rankdir='LR', show_shapes=True, show_layer_names=False,).create(prog='dot', format='svg'))"
   ]
  },
  {
   "cell_type": "code",
   "execution_count": 68,
   "id": "26ccb4f9",
   "metadata": {},
   "outputs": [
    {
     "name": "stderr",
     "output_type": "stream",
     "text": [
      "C:\\Users\\alex2\\anaconda3\\lib\\site-packages\\keras\\optimizers\\legacy\\adam.py:117: UserWarning: The `lr` argument is deprecated, use `learning_rate` instead.\n",
      "  super().__init__(name, **kwargs)\n"
     ]
    }
   ],
   "source": [
    "from keras.optimizers import Adam\n",
    "\n",
    "lr = 1e-3\n",
    "opt = Adam(lr=lr, decay=lr/50)\n",
    "model.compile(optimizer='adam', loss='categorical_crossentropy', metrics=['accuracy'])"
   ]
  },
  {
   "cell_type": "code",
   "execution_count": 69,
   "id": "0ae36407",
   "metadata": {},
   "outputs": [
    {
     "data": {
      "text/plain": [
       "(9527, 20)"
      ]
     },
     "execution_count": 69,
     "metadata": {},
     "output_type": "execute_result"
    }
   ],
   "source": [
    "x1_train[:9527].shape"
   ]
  },
  {
   "cell_type": "code",
   "execution_count": 70,
   "id": "9c973d34",
   "metadata": {},
   "outputs": [
    {
     "name": "stdout",
     "output_type": "stream",
     "text": [
      "Epoch 1/50\n",
      "1154/1154 [==============================] - 184s 156ms/step - loss: 0.4439 - accuracy: 0.7929 - val_loss: 0.3882 - val_accuracy: 0.8225\n",
      "Epoch 2/50\n",
      "1154/1154 [==============================] - 189s 164ms/step - loss: 0.3511 - accuracy: 0.8424 - val_loss: 0.3681 - val_accuracy: 0.8328\n",
      "Epoch 3/50\n",
      "1154/1154 [==============================] - 189s 164ms/step - loss: 0.3114 - accuracy: 0.8621 - val_loss: 0.3634 - val_accuracy: 0.8385\n",
      "Epoch 4/50\n",
      "1154/1154 [==============================] - 186s 161ms/step - loss: 0.2800 - accuracy: 0.8778 - val_loss: 0.3620 - val_accuracy: 0.8434\n",
      "Epoch 5/50\n",
      "1154/1154 [==============================] - 184s 159ms/step - loss: 0.2527 - accuracy: 0.8905 - val_loss: 0.3730 - val_accuracy: 0.8451\n",
      "Epoch 6/50\n",
      "1154/1154 [==============================] - 185s 160ms/step - loss: 0.2278 - accuracy: 0.9015 - val_loss: 0.3746 - val_accuracy: 0.8461\n",
      "Epoch 7/50\n",
      "1154/1154 [==============================] - 183s 159ms/step - loss: 0.2063 - accuracy: 0.9122 - val_loss: 0.3887 - val_accuracy: 0.8500\n",
      "Epoch 8/50\n",
      "1154/1154 [==============================] - 183s 158ms/step - loss: 0.1874 - accuracy: 0.9212 - val_loss: 0.4203 - val_accuracy: 0.8518\n",
      "Epoch 9/50\n",
      "1154/1154 [==============================] - 183s 159ms/step - loss: 0.1702 - accuracy: 0.9288 - val_loss: 0.4214 - val_accuracy: 0.8478\n",
      "Epoch 10/50\n",
      "1154/1154 [==============================] - 183s 159ms/step - loss: 0.1563 - accuracy: 0.9352 - val_loss: 0.4645 - val_accuracy: 0.8503\n",
      "Epoch 11/50\n",
      "1154/1154 [==============================] - 185s 160ms/step - loss: 0.1436 - accuracy: 0.9408 - val_loss: 0.4922 - val_accuracy: 0.8497\n",
      "Epoch 12/50\n",
      "1154/1154 [==============================] - 183s 159ms/step - loss: 0.1331 - accuracy: 0.9454 - val_loss: 0.5063 - val_accuracy: 0.8519\n",
      "Epoch 13/50\n",
      "1154/1154 [==============================] - 182s 158ms/step - loss: 0.1236 - accuracy: 0.9498 - val_loss: 0.5292 - val_accuracy: 0.8522\n",
      "Epoch 14/50\n",
      "1154/1154 [==============================] - 188s 163ms/step - loss: 0.1162 - accuracy: 0.9527 - val_loss: 0.5535 - val_accuracy: 0.8497\n",
      "Epoch 15/50\n",
      "1154/1154 [==============================] - 187s 162ms/step - loss: 0.1093 - accuracy: 0.9558 - val_loss: 0.5787 - val_accuracy: 0.8530\n",
      "Epoch 16/50\n",
      "1154/1154 [==============================] - 187s 162ms/step - loss: 0.1034 - accuracy: 0.9585 - val_loss: 0.6105 - val_accuracy: 0.8494\n",
      "Epoch 17/50\n",
      "1154/1154 [==============================] - 185s 161ms/step - loss: 0.0978 - accuracy: 0.9607 - val_loss: 0.6357 - val_accuracy: 0.8514\n",
      "Epoch 18/50\n",
      "1154/1154 [==============================] - 185s 160ms/step - loss: 0.0942 - accuracy: 0.9625 - val_loss: 0.6345 - val_accuracy: 0.8520\n",
      "Epoch 19/50\n",
      "1154/1154 [==============================] - 185s 160ms/step - loss: 0.0900 - accuracy: 0.9639 - val_loss: 0.6503 - val_accuracy: 0.8495\n",
      "Epoch 20/50\n",
      "1154/1154 [==============================] - 184s 160ms/step - loss: 0.0869 - accuracy: 0.9653 - val_loss: 0.6655 - val_accuracy: 0.8510\n",
      "Epoch 21/50\n",
      "1154/1154 [==============================] - 184s 159ms/step - loss: 0.0830 - accuracy: 0.9666 - val_loss: 0.6892 - val_accuracy: 0.8510\n",
      "Epoch 22/50\n",
      "1154/1154 [==============================] - 182s 158ms/step - loss: 0.0804 - accuracy: 0.9675 - val_loss: 0.7076 - val_accuracy: 0.8486\n",
      "Epoch 23/50\n",
      "1154/1154 [==============================] - 182s 158ms/step - loss: 0.0777 - accuracy: 0.9686 - val_loss: 0.7362 - val_accuracy: 0.8500\n",
      "Epoch 24/50\n",
      "1154/1154 [==============================] - 184s 159ms/step - loss: 0.0750 - accuracy: 0.9695 - val_loss: 0.7479 - val_accuracy: 0.8500\n",
      "Epoch 25/50\n",
      "1154/1154 [==============================] - 184s 159ms/step - loss: 0.0736 - accuracy: 0.9697 - val_loss: 0.7204 - val_accuracy: 0.8499\n",
      "Epoch 26/50\n",
      "1154/1154 [==============================] - 185s 160ms/step - loss: 0.0711 - accuracy: 0.9704 - val_loss: 0.7839 - val_accuracy: 0.8492\n",
      "Epoch 27/50\n",
      "1154/1154 [==============================] - 189s 164ms/step - loss: 0.0691 - accuracy: 0.9714 - val_loss: 0.7953 - val_accuracy: 0.8501\n",
      "Epoch 28/50\n",
      "1154/1154 [==============================] - 189s 164ms/step - loss: 0.0681 - accuracy: 0.9717 - val_loss: 0.8029 - val_accuracy: 0.8492\n",
      "Epoch 29/50\n",
      "1154/1154 [==============================] - 191s 165ms/step - loss: 0.0658 - accuracy: 0.9726 - val_loss: 0.8181 - val_accuracy: 0.8473\n",
      "Epoch 30/50\n",
      "1154/1154 [==============================] - 197s 170ms/step - loss: 0.0654 - accuracy: 0.9723 - val_loss: 0.8478 - val_accuracy: 0.8522\n",
      "Epoch 31/50\n",
      "1154/1154 [==============================] - 190s 165ms/step - loss: 0.0634 - accuracy: 0.9731 - val_loss: 0.8579 - val_accuracy: 0.8502\n",
      "Epoch 32/50\n",
      "1154/1154 [==============================] - 185s 160ms/step - loss: 0.0614 - accuracy: 0.9741 - val_loss: 0.8374 - val_accuracy: 0.8477\n",
      "Epoch 33/50\n",
      "1154/1154 [==============================] - 192s 167ms/step - loss: 0.0614 - accuracy: 0.9740 - val_loss: 0.8792 - val_accuracy: 0.8487\n",
      "Epoch 34/50\n",
      "1154/1154 [==============================] - 180s 156ms/step - loss: 0.0597 - accuracy: 0.9741 - val_loss: 0.9070 - val_accuracy: 0.8496\n",
      "Epoch 35/50\n",
      "1154/1154 [==============================] - 178s 155ms/step - loss: 0.0585 - accuracy: 0.9750 - val_loss: 0.8889 - val_accuracy: 0.8492\n",
      "Epoch 36/50\n",
      "1154/1154 [==============================] - 183s 159ms/step - loss: 0.0580 - accuracy: 0.9749 - val_loss: 0.9199 - val_accuracy: 0.8503\n",
      "Epoch 37/50\n",
      "1154/1154 [==============================] - 191s 165ms/step - loss: 0.0572 - accuracy: 0.9750 - val_loss: 0.9515 - val_accuracy: 0.8479\n",
      "Epoch 38/50\n",
      "1154/1154 [==============================] - 183s 158ms/step - loss: 0.0571 - accuracy: 0.9753 - val_loss: 0.9313 - val_accuracy: 0.8490\n",
      "Epoch 39/50\n",
      "1154/1154 [==============================] - 187s 162ms/step - loss: 0.0546 - accuracy: 0.9761 - val_loss: 0.9541 - val_accuracy: 0.8485\n",
      "Epoch 40/50\n",
      "1154/1154 [==============================] - 187s 162ms/step - loss: 0.0550 - accuracy: 0.9760 - val_loss: 0.9473 - val_accuracy: 0.8476\n",
      "Epoch 41/50\n",
      "1154/1154 [==============================] - 183s 158ms/step - loss: 0.0535 - accuracy: 0.9762 - val_loss: 1.0053 - val_accuracy: 0.8480\n",
      "Epoch 42/50\n",
      "1154/1154 [==============================] - 185s 161ms/step - loss: 0.0532 - accuracy: 0.9765 - val_loss: 1.0309 - val_accuracy: 0.8494\n",
      "Epoch 43/50\n",
      "1154/1154 [==============================] - 187s 162ms/step - loss: 0.0533 - accuracy: 0.9762 - val_loss: 0.9971 - val_accuracy: 0.8483\n",
      "Epoch 44/50\n",
      "1154/1154 [==============================] - 182s 158ms/step - loss: 0.0524 - accuracy: 0.9766 - val_loss: 1.0037 - val_accuracy: 0.8490\n",
      "Epoch 45/50\n",
      "1154/1154 [==============================] - 183s 159ms/step - loss: 0.0510 - accuracy: 0.9769 - val_loss: 1.0173 - val_accuracy: 0.8485\n",
      "Epoch 46/50\n",
      "1154/1154 [==============================] - 181s 157ms/step - loss: 0.0502 - accuracy: 0.9770 - val_loss: 1.0375 - val_accuracy: 0.8480\n",
      "Epoch 47/50\n",
      "1154/1154 [==============================] - 180s 156ms/step - loss: 0.0506 - accuracy: 0.9769 - val_loss: 1.0212 - val_accuracy: 0.8491\n",
      "Epoch 48/50\n",
      "1154/1154 [==============================] - 187s 162ms/step - loss: 0.0501 - accuracy: 0.9774 - val_loss: 1.0311 - val_accuracy: 0.8480\n",
      "Epoch 49/50\n",
      "1154/1154 [==============================] - 198s 172ms/step - loss: 0.0504 - accuracy: 0.9770 - val_loss: 1.0402 - val_accuracy: 0.8488\n",
      "Epoch 50/50\n",
      "1154/1154 [==============================] - 195s 169ms/step - loss: 0.0488 - accuracy: 0.9776 - val_loss: 1.0727 - val_accuracy: 0.8479\n"
     ]
    }
   ],
   "source": [
    "# 決定一次要放多少成對標題給模型訓練\n",
    "BATCH_SIZE = 250\n",
    "\n",
    "# 決定模型要看整個訓練資料集幾遍\n",
    "NUM_EPOCHS = 50\n",
    "\n",
    "# 實際訓練模型\n",
    "history = model.fit(\n",
    "    # 輸入是兩個長度為 20 的數字序列\n",
    "    x=[x1_train, x2_train], \n",
    "    y=y_train,\n",
    "    batch_size=BATCH_SIZE,\n",
    "    epochs=NUM_EPOCHS,\n",
    "    # 每個 epoch 完後計算驗證資料集\n",
    "    # 上的 Loss 以及準確度\n",
    "    validation_data=(\n",
    "        [x1_val, x2_val], \n",
    "        y_val\n",
    "    ),\n",
    "    # 每個 epoch 隨機調整訓練資料集\n",
    "    # 裡頭的數據以讓訓練過程更穩定\n",
    "    shuffle=True\n",
    ")"
   ]
  },
  {
   "cell_type": "code",
   "execution_count": 71,
   "id": "b8fcde0c",
   "metadata": {},
   "outputs": [
    {
     "data": {
      "text/plain": [
       "(<Figure size 1000x500 with 2 Axes>,\n",
       " array([<Axes: title={'center': 'Loss'}, xlabel='Epochs', ylabel='Loss'>,\n",
       "        <Axes: title={'center': 'Accuracy'}, xlabel='Epochs', ylabel='Accuracy'>],\n",
       "       dtype=object))"
      ]
     },
     "execution_count": 71,
     "metadata": {},
     "output_type": "execute_result"
    },
    {
     "data": {
      "image/png": "[encoded data removed]",
      "text/plain": [
       "<Figure size 1000x500 with 2 Axes>"
      ]
     },
     "metadata": {},
     "output_type": "display_data"
    }
   ],
   "source": [
    "from plot_keras_history import plot_history\n",
    "plot_history(history)"
   ]
  },
  {
   "cell_type": "code",
   "execution_count": 75,
   "id": "4bf73568",
   "metadata": {
    "scrolled": true
   },
   "outputs": [
    {
     "name": "stdout",
     "output_type": "stream",
     "text": [
      "Use tokenized test csv\n"
     ]
    },
    {
     "data": {
      "text/html": [
       "<div>\n",
       "<style scoped>\n",
       "    .dataframe tbody tr th:only-of-type {\n",
       "        vertical-align: middle;\n",
       "    }\n",
       "\n",
       "    .dataframe tbody tr th {\n",
       "        vertical-align: top;\n",
       "    }\n",
       "\n",
       "    .dataframe thead th {\n",
       "        text-align: right;\n",
       "    }\n",
       "</style>\n",
       "<table border=\"1\" class=\"dataframe\">\n",
       "  <thead>\n",
       "    <tr style=\"text-align: right;\">\n",
       "      <th></th>\n",
       "      <th>tid1</th>\n",
       "      <th>tid2</th>\n",
       "      <th>title1_zh</th>\n",
       "      <th>title2_zh</th>\n",
       "      <th>title1_en</th>\n",
       "      <th>title2_en</th>\n",
       "      <th>title1_tokenized</th>\n",
       "      <th>title2_tokenized</th>\n",
       "    </tr>\n",
       "    <tr>\n",
       "      <th>id</th>\n",
       "      <th></th>\n",
       "      <th></th>\n",
       "      <th></th>\n",
       "      <th></th>\n",
       "      <th></th>\n",
       "      <th></th>\n",
       "      <th></th>\n",
       "      <th></th>\n",
       "    </tr>\n",
       "  </thead>\n",
       "  <tbody>\n",
       "    <tr>\n",
       "      <th>321187</th>\n",
       "      <td>167562</td>\n",
       "      <td>59521</td>\n",
       "      <td>萨拉赫人气爆棚!埃及总统大选未参选获百万选票 现任总统压力山大</td>\n",
       "      <td>辟谣！里昂官方否认费基尔加盟利物浦，难道是价格没谈拢？</td>\n",
       "      <td>egypt 's presidential election failed to win m...</td>\n",
       "      <td>Lyon! Lyon officials have denied that Felipe F...</td>\n",
       "      <td>萨拉 赫 人气 爆棚 埃及 总统大选 未 参选 获 百万 选票 现任 总统 压力 山 大</td>\n",
       "      <td>辟谣 里昂 官方 否认 费 基尔 加盟 利物浦 难道 是 价格 没 谈拢</td>\n",
       "    </tr>\n",
       "    <tr>\n",
       "      <th>321190</th>\n",
       "      <td>167564</td>\n",
       "      <td>91315</td>\n",
       "      <td>萨达姆被捕后告诫美国的一句话，发人深思</td>\n",
       "      <td>10大最让美国人相信的荒诞谣言，如蜥蜴人掌控着美国</td>\n",
       "      <td>A message from Saddam Hussein after he was cap...</td>\n",
       "      <td>The Top 10 Americans believe that the Lizard M...</td>\n",
       "      <td>萨达姆 被捕 后 告诫 美国 的 一句 话 发人深思</td>\n",
       "      <td>10 大 最 让 美国 人 相信 的 荒诞 谣言 如 蜥蜴人 掌控 着 美国</td>\n",
       "    </tr>\n",
       "    <tr>\n",
       "      <th>321189</th>\n",
       "      <td>167563</td>\n",
       "      <td>167564</td>\n",
       "      <td>萨达姆此项计划没有此国破坏的话，美国还会对伊拉克发动战争吗</td>\n",
       "      <td>萨达姆被捕后告诫美国的一句话，发人深思</td>\n",
       "      <td>Will the United States wage war on Iraq withou...</td>\n",
       "      <td>A message from Saddam Hussein after he was cap...</td>\n",
       "      <td>萨达姆 此项 计划 没有 此国 破坏 的话 美国 还 会 对 伊拉克 发动战争 吗</td>\n",
       "      <td>萨达姆 被捕 后 告诫 美国 的 一句 话 发人深思</td>\n",
       "    </tr>\n",
       "  </tbody>\n",
       "</table>\n",
       "</div>"
      ],
      "text/plain": [
       "          tid1    tid2                        title1_zh  \\\n",
       "id                                                        \n",
       "321187  167562   59521  萨拉赫人气爆棚!埃及总统大选未参选获百万选票 现任总统压力山大   \n",
       "321190  167564   91315              萨达姆被捕后告诫美国的一句话，发人深思   \n",
       "321189  167563  167564    萨达姆此项计划没有此国破坏的话，美国还会对伊拉克发动战争吗   \n",
       "\n",
       "                          title2_zh  \\\n",
       "id                                    \n",
       "321187  辟谣！里昂官方否认费基尔加盟利物浦，难道是价格没谈拢？   \n",
       "321190    10大最让美国人相信的荒诞谣言，如蜥蜴人掌控着美国   \n",
       "321189          萨达姆被捕后告诫美国的一句话，发人深思   \n",
       "\n",
       "                                                title1_en  \\\n",
       "id                                                          \n",
       "321187  egypt 's presidential election failed to win m...   \n",
       "321190  A message from Saddam Hussein after he was cap...   \n",
       "321189  Will the United States wage war on Iraq withou...   \n",
       "\n",
       "                                                title2_en  \\\n",
       "id                                                          \n",
       "321187  Lyon! Lyon officials have denied that Felipe F...   \n",
       "321190  The Top 10 Americans believe that the Lizard M...   \n",
       "321189  A message from Saddam Hussein after he was cap...   \n",
       "\n",
       "                                    title1_tokenized  \\\n",
       "id                                                     \n",
       "321187  萨拉 赫 人气 爆棚 埃及 总统大选 未 参选 获 百万 选票 现任 总统 压力 山 大   \n",
       "321190                    萨达姆 被捕 后 告诫 美国 的 一句 话 发人深思   \n",
       "321189     萨达姆 此项 计划 没有 此国 破坏 的话 美国 还 会 对 伊拉克 发动战争 吗   \n",
       "\n",
       "                              title2_tokenized  \n",
       "id                                              \n",
       "321187    辟谣 里昂 官方 否认 费 基尔 加盟 利物浦 难道 是 价格 没 谈拢  \n",
       "321190  10 大 最 让 美国 人 相信 的 荒诞 谣言 如 蜥蜴人 掌控 着 美国  \n",
       "321189              萨达姆 被捕 后 告诫 美国 的 一句 话 发人深思  "
      ]
     },
     "execution_count": 75,
     "metadata": {},
     "output_type": "execute_result"
    }
   ],
   "source": [
    "if os.path.exists(TOKENIZED_TEST_CSV_PATH):\n",
    "    print(\"Use tokenized test csv\")\n",
    "    test = pd.read_csv(TOKENIZED_TEST_CSV_PATH, index_col=0)\n",
    "else:\n",
    "    print(\"Use raw test csv\")\n",
    "    test = pd.read_csv(TEST_CSV_PATH, index_col=0)\n",
    "    test.fillna('UNKNOWN', inplace=True)\n",
    "    test['title1_tokenized'] = parallelize(test.loc[:, 'title1_zh'], process)\n",
    "    test['title2_tokenized'] = parallelize(test.loc[:, 'title2_zh'], process)\n",
    "    test.to_csv('tokenized_test.csv',index=True)\n",
    "    test.fillna('UNKNOWN', inplace=True)\n",
    "test.head(3)"
   ]
  },
  {
   "cell_type": "code",
   "execution_count": 76,
   "id": "ccea43aa",
   "metadata": {},
   "outputs": [
    {
     "name": "stdout",
     "output_type": "stream",
     "text": [
      "2504/2504 [==============================] - 42s 16ms/step\n"
     ]
    }
   ],
   "source": [
    "x1_test = tokenizer \\\n",
    "    .texts_to_sequences(\n",
    "        test.title1_tokenized)\n",
    "x2_test = tokenizer \\\n",
    "    .texts_to_sequences(\n",
    "        test.title2_tokenized)\n",
    "\n",
    "# 為數字序列加入 zero padding\n",
    "x1_test = keras.utils.data_utils.pad_sequences(x1_test, maxlen=MAX_SEQUENCE_LENGTH)\n",
    "x2_test = keras.utils.data_utils.pad_sequences(x2_test, maxlen=MAX_SEQUENCE_LENGTH)    \n",
    "\n",
    "# 利用已訓練的模型做預測\n",
    "predictions = model.predict(\n",
    "    [x1_test, x2_test])"
   ]
  },
  {
   "cell_type": "code",
   "execution_count": 77,
   "id": "7dbd7f9f",
   "metadata": {},
   "outputs": [
    {
     "data": {
      "text/plain": [
       "array([[1.00000000e+00, 3.70318273e-15, 2.17577192e-08],\n",
       "       [9.99504924e-01, 3.59355080e-12, 4.95048240e-04],\n",
       "       [9.97851372e-01, 2.14870088e-03, 1.23621988e-10],\n",
       "       [1.00000000e+00, 1.07423686e-13, 6.69894495e-09],\n",
       "       [9.99993443e-01, 2.76020873e-10, 6.61294143e-06]], dtype=float32)"
      ]
     },
     "execution_count": 77,
     "metadata": {},
     "output_type": "execute_result"
    }
   ],
   "source": [
    "predictions[:5]"
   ]
  },
  {
   "cell_type": "code",
   "execution_count": 78,
   "id": "c2affce4",
   "metadata": {},
   "outputs": [
    {
     "data": {
      "text/html": [
       "<div>\n",
       "<style scoped>\n",
       "    .dataframe tbody tr th:only-of-type {\n",
       "        vertical-align: middle;\n",
       "    }\n",
       "\n",
       "    .dataframe tbody tr th {\n",
       "        vertical-align: top;\n",
       "    }\n",
       "\n",
       "    .dataframe thead th {\n",
       "        text-align: right;\n",
       "    }\n",
       "</style>\n",
       "<table border=\"1\" class=\"dataframe\">\n",
       "  <thead>\n",
       "    <tr style=\"text-align: right;\">\n",
       "      <th></th>\n",
       "      <th>Id</th>\n",
       "      <th>Category</th>\n",
       "    </tr>\n",
       "  </thead>\n",
       "  <tbody>\n",
       "    <tr>\n",
       "      <th>0</th>\n",
       "      <td>321187</td>\n",
       "      <td>unrelated</td>\n",
       "    </tr>\n",
       "    <tr>\n",
       "      <th>1</th>\n",
       "      <td>321190</td>\n",
       "      <td>unrelated</td>\n",
       "    </tr>\n",
       "    <tr>\n",
       "      <th>2</th>\n",
       "      <td>321189</td>\n",
       "      <td>unrelated</td>\n",
       "    </tr>\n",
       "    <tr>\n",
       "      <th>3</th>\n",
       "      <td>321193</td>\n",
       "      <td>unrelated</td>\n",
       "    </tr>\n",
       "    <tr>\n",
       "      <th>4</th>\n",
       "      <td>321191</td>\n",
       "      <td>unrelated</td>\n",
       "    </tr>\n",
       "  </tbody>\n",
       "</table>\n",
       "</div>"
      ],
      "text/plain": [
       "       Id   Category\n",
       "0  321187  unrelated\n",
       "1  321190  unrelated\n",
       "2  321189  unrelated\n",
       "3  321193  unrelated\n",
       "4  321191  unrelated"
      ]
     },
     "execution_count": 78,
     "metadata": {},
     "output_type": "execute_result"
    }
   ],
   "source": [
    "index_to_label = {v: k for k, v in label_to_index.items()}\n",
    "\n",
    "test['Category'] = [index_to_label[idx] for idx in np.argmax(predictions, axis=1)]\n",
    "\n",
    "submission = test \\\n",
    "    .loc[:, ['Category']] \\\n",
    "    .reset_index()\n",
    "\n",
    "submission.columns = ['Id', 'Category']\n",
    "submission.to_csv('submission.csv', index=False)\n",
    "submission.head()"
   ]
  },
  {
   "cell_type": "code",
   "execution_count": null,
   "id": "de62125d",
   "metadata": {},
   "outputs": [],
   "source": []
  }
 ],
 "metadata": {
  "kernelspec": {
   "display_name": "Python 3 (ipykernel)",
   "language": "python",
   "name": "python3"
  },
  "language_info": {
   "codemirror_mode": {
    "name": "ipython",
    "version": 3
   },
   "file_extension": ".py",
   "mimetype": "text/x-python",
   "name": "python",
   "nbconvert_exporter": "python",
   "pygments_lexer": "ipython3",
   "version": "3.10.9"
  }
 },
 "nbformat": 4,
 "nbformat_minor": 5
}
